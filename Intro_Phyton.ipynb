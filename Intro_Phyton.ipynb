{
  "nbformat": 4,
  "nbformat_minor": 0,
  "metadata": {
    "colab": {
      "name": "Intro_Phyton.ipynb",
      "provenance": [],
      "toc_visible": true,
      "authorship_tag": "ABX9TyNbRpxel+3T3r4GV87gDkiz",
      "include_colab_link": true
    },
    "kernelspec": {
      "name": "python3",
      "display_name": "Python 3"
    }
  },
  "cells": [
    {
      "cell_type": "markdown",
      "metadata": {
        "id": "view-in-github",
        "colab_type": "text"
      },
      "source": [
        "<a href=\"https://colab.research.google.com/github/ceciliagomez/machinelearning-az/blob/master/Intro_Phyton.ipynb\" target=\"_parent\"><img src=\"https://colab.research.google.com/assets/colab-badge.svg\" alt=\"Open In Colab\"/></a>"
      ]
    },
    {
      "cell_type": "markdown",
      "metadata": {
        "id": "LBgrTULTw9QS",
        "colab_type": "text"
      },
      "source": [
        "#**Listas** en Phyton"
      ]
    },
    {
      "cell_type": "code",
      "metadata": {
        "id": "llPgYEnQ633c",
        "colab_type": "code",
        "colab": {
          "base_uri": "https://localhost:8080/",
          "height": 35
        },
        "outputId": "dcba4e8b-3a4d-44a3-e044-35499ee96fdf"
      },
      "source": [
        "X = 2.1\n",
        "X1='Juan'\n",
        "X2='Gladis'\n",
        "X1+X2\n",
        "Y= float(1.1)\n",
        "z=2\n",
        "X4='Juan'\n",
        "X5=str(2)\n",
        "X4+X5"
      ],
      "execution_count": 17,
      "outputs": [
        {
          "output_type": "execute_result",
          "data": {
            "application/vnd.google.colaboratory.intrinsic+json": {
              "type": "string"
            },
            "text/plain": [
              "'Juan2'"
            ]
          },
          "metadata": {
            "tags": []
          },
          "execution_count": 17
        }
      ]
    },
    {
      "cell_type": "markdown",
      "metadata": {
        "id": "dBO4UvvW7b-b",
        "colab_type": "text"
      },
      "source": [
        "Python  no necesita la declaración del tipo de variable\n",
        "La suma de string concatena\n",
        "puedo castear valores \n"
      ]
    },
    {
      "cell_type": "code",
      "metadata": {
        "id": "OFy58evh7Hzt",
        "colab_type": "code",
        "colab": {
          "base_uri": "https://localhost:8080/",
          "height": 34
        },
        "outputId": "eec90ceb-ad32-448e-ea8d-b103078cbbef"
      },
      "source": [
        "type(X)\n"
      ],
      "execution_count": 14,
      "outputs": [
        {
          "output_type": "execute_result",
          "data": {
            "text/plain": [
              "float"
            ]
          },
          "metadata": {
            "tags": []
          },
          "execution_count": 14
        }
      ]
    },
    {
      "cell_type": "code",
      "metadata": {
        "id": "pXWq1ZJC9CxJ",
        "colab_type": "code",
        "colab": {
          "base_uri": "https://localhost:8080/",
          "height": 129
        },
        "outputId": "862eb1e7-1c15-4373-e72f-1f9e22c7a942"
      },
      "source": [
        "X1='Juan'\n",
        "X2=24\n",
        "print(f{X1} tiene {X2})"
      ],
      "execution_count": 19,
      "outputs": [
        {
          "output_type": "error",
          "ename": "SyntaxError",
          "evalue": "ignored",
          "traceback": [
            "\u001b[0;36m  File \u001b[0;32m\"<ipython-input-19-d3ed99414ec8>\"\u001b[0;36m, line \u001b[0;32m3\u001b[0m\n\u001b[0;31m    print(f{X1} tiene {X2})\u001b[0m\n\u001b[0m           ^\u001b[0m\n\u001b[0;31mSyntaxError\u001b[0m\u001b[0;31m:\u001b[0m invalid syntax\n"
          ]
        }
      ]
    },
    {
      "cell_type": "code",
      "metadata": {
        "id": "YK1F5hZN9g9_",
        "colab_type": "code",
        "colab": {}
      },
      "source": [
        "lista_1= [1, 'Juan' , 18, 8.2]\n",
        "lista_2= [1, 'mariana' , 18, 8.2]"
      ],
      "execution_count": 23,
      "outputs": []
    },
    {
      "cell_type": "code",
      "metadata": {
        "id": "OMHpaeWh9wFo",
        "colab_type": "code",
        "colab": {}
      },
      "source": [
        "lista_2[3]\n",
        "lista_3 = lista_1 + lista_2"
      ],
      "execution_count": 27,
      "outputs": []
    },
    {
      "cell_type": "code",
      "metadata": {
        "id": "49H-csUm-J7k",
        "colab_type": "code",
        "colab": {
          "base_uri": "https://localhost:8080/",
          "height": 34
        },
        "outputId": "706a3b75-c45c-4506-a7e3-bc553983d0ca"
      },
      "source": [
        "lista_3\n"
      ],
      "execution_count": 28,
      "outputs": [
        {
          "output_type": "execute_result",
          "data": {
            "text/plain": [
              "[1, 'Juan', 18, 8.2, 1, 'Juan', 18, 8.2]"
            ]
          },
          "metadata": {
            "tags": []
          },
          "execution_count": 28
        }
      ]
    },
    {
      "cell_type": "code",
      "metadata": {
        "id": "Y2_4LHRC-OF2",
        "colab_type": "code",
        "colab": {
          "base_uri": "https://localhost:8080/",
          "height": 34
        },
        "outputId": "87d19ced-cc0c-4f1d-aa47-5ac732e7068b"
      },
      "source": [
        "lista_3[1:3]"
      ],
      "execution_count": 29,
      "outputs": [
        {
          "output_type": "execute_result",
          "data": {
            "text/plain": [
              "['Juan', 18]"
            ]
          },
          "metadata": {
            "tags": []
          },
          "execution_count": 29
        }
      ]
    },
    {
      "cell_type": "markdown",
      "metadata": {
        "id": "7KjQZgM0-aZN",
        "colab_type": "text"
      },
      "source": [
        "el hasta el hasta n-1"
      ]
    },
    {
      "cell_type": "code",
      "metadata": {
        "id": "6f4V7wSK-WkW",
        "colab_type": "code",
        "colab": {
          "base_uri": "https://localhost:8080/",
          "height": 34
        },
        "outputId": "106b7699-4054-4f62-a5db-874ead4c6459"
      },
      "source": [
        "lista_3[1:4]"
      ],
      "execution_count": 30,
      "outputs": [
        {
          "output_type": "execute_result",
          "data": {
            "text/plain": [
              "['Juan', 18, 8.2]"
            ]
          },
          "metadata": {
            "tags": []
          },
          "execution_count": 30
        }
      ]
    },
    {
      "cell_type": "code",
      "metadata": {
        "id": "cKUuHfYL-ebz",
        "colab_type": "code",
        "colab": {
          "base_uri": "https://localhost:8080/",
          "height": 34
        },
        "outputId": "eedb67aa-983e-406c-a7b7-7106d234364d"
      },
      "source": [
        "lista_3[::-1]"
      ],
      "execution_count": 31,
      "outputs": [
        {
          "output_type": "execute_result",
          "data": {
            "text/plain": [
              "[8.2, 18, 'Juan', 1, 8.2, 18, 'Juan', 1]"
            ]
          },
          "metadata": {
            "tags": []
          },
          "execution_count": 31
        }
      ]
    },
    {
      "cell_type": "code",
      "metadata": {
        "id": "grRIo79m-v0n",
        "colab_type": "code",
        "colab": {
          "base_uri": "https://localhost:8080/",
          "height": 34
        },
        "outputId": "b409c83e-5400-4bc3-f508-3bdf94dd2e62"
      },
      "source": [
        "lista_3[::2]"
      ],
      "execution_count": 32,
      "outputs": [
        {
          "output_type": "execute_result",
          "data": {
            "text/plain": [
              "[1, 18, 1, 18]"
            ]
          },
          "metadata": {
            "tags": []
          },
          "execution_count": 32
        }
      ]
    },
    {
      "cell_type": "code",
      "metadata": {
        "id": "ZoxGpILw-xk6",
        "colab_type": "code",
        "colab": {}
      },
      "source": [
        ""
      ],
      "execution_count": null,
      "outputs": []
    }
  ]
}